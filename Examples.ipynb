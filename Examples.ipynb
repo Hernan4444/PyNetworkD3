{
 "cells": [
  {
   "cell_type": "code",
   "execution_count": 1,
   "id": "07227018",
   "metadata": {},
   "outputs": [],
   "source": [
    "from PyNetworkD3 import Graph\n",
    "from IPython.core.display import display, HTML\n",
    "from IPython.display import IFrame"
   ]
  },
  {
   "cell_type": "code",
   "execution_count": 2,
   "id": "27d8edcb",
   "metadata": {},
   "outputs": [],
   "source": [
    "dataset = {\n",
    "    \"nodes\": [{\"id\": 1},{\"id\": 2},{\"id\": 3},{\"id\": 4},{\"id\": 5}],\n",
    "    \"links\": [\n",
    "        {\"source\": 1, \"target\": 3},\n",
    "        {\"source\": 2, \"target\": 3},\n",
    "        {\"source\": 1, \"target\": 3},\n",
    "        {\"source\": 5, \"target\": 3},\n",
    "        {\"source\": 4, \"target\": 1},\n",
    "    ]\n",
    "}\n",
    "\n",
    "graph = Graph(dataset, width=300, height=200, radio=10)"
   ]
  },
  {
   "cell_type": "code",
   "execution_count": 6,
   "id": "91d8b87e",
   "metadata": {},
   "outputs": [
    {
     "data": {
      "text/html": [
       "<!DOCTYPE html>\n",
       "<html>\n",
       "\n",
       "<head>\n",
       "    <title>PyNetworkD3</title>\n",
       "    <meta name=\"description\" content=\"D3 Visualization generated with pyhon\">\n",
       "    <meta name=\"keywords\" content=\"python d3 network PyNetworkD3\">\n",
       "    <script src=\"https://cdn.jsdelivr.net/npm/d3@7\"></script>\n",
       "    <style>\n",
       "\t\tcircle {\n",
       "\t    fill: #FD8D3C;\n",
       "\t    stroke: white;\n",
       "\t    stroke-width: 4px;\n",
       "\t    cursor:move;\n",
       "\t}\n",
       "\t\n",
       "\tline {\n",
       "\t    stroke: #9ECAE1;\n",
       "\t    stroke-width: 4px;\n",
       "\t}\n",
       "\t\n",
       "\ttext {\n",
       "\t    fill: white;\n",
       "\t    font-family: Ubuntu, sans-serif;\n",
       "\t    font-weight: bold;\n",
       "\t    text-anchor: middle;\n",
       "\t    cursor:move;\n",
       "\t}\n",
       "\t\n",
       "\tdiv.tooltip {\t\n",
       "\t    position: absolute;\t\t\t\n",
       "\t    text-align: center;\t\t\t\n",
       "\t\t\t\t\t\t\t\t\n",
       "\t    padding: 2px;\t\t\t\t\n",
       "\t    font: 12px sans-serif;\t\t\n",
       "\t    background: lightsteelblue;\t\n",
       "\t    border: 0px;\t\t\n",
       "\t    border-radius: 8px;\t\t\t\n",
       "\t    pointer-events: none;\t\t\t\n",
       "\t}\n",
       "\t</style>\n",
       "</head>\n",
       "\n",
       "<body>\n",
       "    <div id=\"pynetworkd3-chart\"></div>\n",
       "    <script>\n",
       "        const borders = true;\n",
       "\t\tconst WIDTH = 300;\n",
       "\t\tconst HEIGHT = 200;\n",
       "\t\tconst dataset = {'nodes': [{'id': 1}, {'id': 2}, {'id': 3}, {'id': 4}, {'id': 5}], 'links': [{'source': 1, 'target': 3}, {'source': 2, 'target': 3}, {'source': 1, 'target': 3}, {'source': 5, 'target': 3}, {'source': 4, 'target': 1}]}\n",
       "\t\tconst tooltipAttributes = null\n",
       "\t\tconst MAX_RADIUS = 10;\n",
       "\t\t\n",
       "\t\tconst MARGIN = { TOP: 10, BOTTOM: 10, LEFT: 10, RIGHT: 10 };\n",
       "\t\tconst widthSVG = WIDTH - MARGIN.RIGHT - MARGIN.LEFT;\n",
       "\t\tconst heightSVG = HEIGHT - MARGIN.TOP - MARGIN.BOTTOM;\n",
       "\t\t\n",
       "\t\tconst SVG = d3.select('#pynetworkd3-chart')\n",
       "\t\t    .append('svg')\n",
       "\t\t    .attr('width', WIDTH)\n",
       "\t\t    .attr('height', HEIGHT)\n",
       "\t\t\n",
       "\t\t\n",
       "\t\tconst container = SVG.append(\"g\").attr(\n",
       "\t\t    \"transform\",\n",
       "\t\t    `translate(${MARGIN.LEFT}, ${MARGIN.TOP})`\n",
       "\t\t);\n",
       "\t\t\n",
       "\t\tconst tooltip = d3\n",
       "\t\t    .select(\"body\")\n",
       "\t\t    .append(\"div\")\n",
       "\t\t    .attr(\"class\", \"tooltip\")\n",
       "\t\t    .style(\"opacity\", 0);\n",
       "\t\t\n",
       "\t\tconst simulation = d3\n",
       "\t\t    .forceSimulation()\n",
       "\t\t    .force(\"center\", d3.forceCenter(widthSVG / 2, heightSVG / 2))\n",
       "\t\t    .force(\"collision\", d3.forceCollide(80))\n",
       "\t\t    .force(\"charge\", d3.forceManyBody().strength(-600))\n",
       "\t\t    .force(\"link\", d3.forceLink().id(node => node.id));\n",
       "\t\t\n",
       "\t\tconst ticked = () => {\n",
       "\t\t    if (borders) {\n",
       "\t\t        container\n",
       "\t\t            .selectAll(\".node\")\n",
       "\t\t            .attr(\"cx\", function (d) { return (d.x = Math.max(MAX_RADIUS, Math.min(widthSVG - MAX_RADIUS, d.x))); })\n",
       "\t\t            .attr(\"cy\", function (d) { return (d.y = Math.max(MAX_RADIUS, Math.min(heightSVG - MAX_RADIUS, d.y))); })\n",
       "\t\t    }\n",
       "\t\t    container\n",
       "\t\t        .selectAll(\".node\")\n",
       "\t\t        .attr(\"transform\", node => `translate(${node.x}, ${node.y})`);\n",
       "\t\t\n",
       "\t\t    container\n",
       "\t\t        .selectAll(\"line\")\n",
       "\t\t        .attr(\"x1\", link => link.source.x)\n",
       "\t\t        .attr(\"y1\", link => link.source.y)\n",
       "\t\t        .attr(\"x2\", link => link.target.x)\n",
       "\t\t        .attr(\"y2\", link => link.target.y);\n",
       "\t\t};\n",
       "\t\t\n",
       "\t\tsimulation\n",
       "\t\t    .nodes(dataset.nodes)\n",
       "\t\t    .on(\"tick\", ticked)\n",
       "\t\t    .force(\"link\")\n",
       "\t\t    .links(dataset.links)\n",
       "\t\t    .distance(80);\n",
       "\t\t\n",
       "\t\tcontainer\n",
       "\t\t    .selectAll(\"line\")\n",
       "\t\t    .data(dataset.links)\n",
       "\t\t    .enter()\n",
       "\t\t    .append(\"line\")\n",
       "\t\t    .attr(\"x1\", link => link.source.x)\n",
       "\t\t    .attr(\"y1\", link => link.source.y)\n",
       "\t\t    .attr(\"x2\", link => link.target.x)\n",
       "\t\t    .attr(\"y2\", link => link.target.y);\n",
       "\t\t\n",
       "\t\tconst dragstarted = (event, node) => {\n",
       "\t\t    if (!event.active) {\n",
       "\t\t        simulation.alphaTarget(0.3).restart();\n",
       "\t\t    }\n",
       "\t\t    node.fx = node.x;\n",
       "\t\t    node.fy = node.y;\n",
       "\t\t};\n",
       "\t\t\n",
       "\t\tconst dragged = (event, node) => {\n",
       "\t\t    node.fx = event.x;\n",
       "\t\t    node.fy = event.y;\n",
       "\t\t};\n",
       "\t\t\n",
       "\t\tconst dragended = (event, node) => {\n",
       "\t\t    if (!event.active) {\n",
       "\t\t        simulation.alphaTarget(0.0);\n",
       "\t\t    }\n",
       "\t\t    node.fx = null;\n",
       "\t\t    node.fy = null;\n",
       "\t\t};\n",
       "\t\t\n",
       "\t\tconst nodes = container\n",
       "\t\t    .selectAll(\".node\")\n",
       "\t\t    .data(dataset.nodes)\n",
       "\t\t    .enter()\n",
       "\t\t    .append(\"g\")\n",
       "\t\t    .attr(\"class\", \"node\")\n",
       "\t\t    .call(\n",
       "\t\t        d3\n",
       "\t\t            .drag()\n",
       "\t\t            .on(\"start\", dragstarted)\n",
       "\t\t            .on(\"drag\", dragged)\n",
       "\t\t            .on(\"end\", dragended)\n",
       "\t\t    );\n",
       "\t\t\n",
       "\t\tconst mouseover = (event, node) => {\n",
       "\t\t    if (tooltipAttributes) {\n",
       "\t\t        let content = '<table style=\"margin-top: 2.5px;\">'\n",
       "\t\t        tooltipAttributes.forEach(d => {\n",
       "\t\t            content += `<tr><td>${d}: </td><td style=\"text-align: right\">${node[d]}</td></tr>`\n",
       "\t\t        })\n",
       "\t\t        content += '</table>'\n",
       "\t\t\n",
       "\t\t        tooltip\n",
       "\t\t            .transition()\n",
       "\t\t            .duration(200)\n",
       "\t\t            .style(\"opacity\", 0.9);\n",
       "\t\t\n",
       "\t\t        tooltip\n",
       "\t\t            .html(content)\n",
       "\t\t            .style(\"left\", event.pageX + \"px\")\n",
       "\t\t            .style(\"top\", event.pageY - 28 + \"px\");\n",
       "\t\t    }\n",
       "\t\t\n",
       "\t\t};\n",
       "\t\t\n",
       "\t\tconst mouseout = _ => {\n",
       "\t\t    tooltip\n",
       "\t\t        .transition()\n",
       "\t\t        .duration(200)\n",
       "\t\t        .style(\"opacity\", 0);\n",
       "\t\t};\n",
       "\t\t\n",
       "\t\tnodes\n",
       "\t\t    .append(\"circle\")\n",
       "\t\t    .attr(\"r\", MAX_RADIUS)\n",
       "\t\t    .on(\"mouseover\", mouseover)\n",
       "\t\t    .on(\"mouseout\", mouseout)\n",
       "    </script>\n",
       "</body>\n",
       "\n",
       "</html>"
      ],
      "text/plain": [
       "<IPython.core.display.HTML object>"
      ]
     },
     "metadata": {
      "isolated": true
     },
     "output_type": "display_data"
    }
   ],
   "source": [
    "html = HTML(graph.get_html())\n",
    "display(html, metadata={\"isolated\": True})"
   ]
  },
  {
   "cell_type": "code",
   "execution_count": null,
   "id": "9753634f",
   "metadata": {},
   "outputs": [],
   "source": []
  },
  {
   "cell_type": "code",
   "execution_count": 4,
   "id": "da8d2a8f",
   "metadata": {},
   "outputs": [
    {
     "data": {
      "text/html": [
       "\n",
       "        <iframe\n",
       "            width=\"800\"\n",
       "            height=\"250\"\n",
       "            src=\"./source.html\"\n",
       "            frameborder=\"0\"\n",
       "            allowfullscreen\n",
       "            \n",
       "        ></iframe>\n",
       "        "
      ],
      "text/plain": [
       "<IPython.lib.display.IFrame at 0x10b7b18e0>"
      ]
     },
     "execution_count": 4,
     "metadata": {},
     "output_type": "execute_result"
    }
   ],
   "source": [
    "graph.export(\"source.html\")\n",
    "IFrame(src='./source.html', width=800, height=250)"
   ]
  },
  {
   "cell_type": "code",
   "execution_count": 7,
   "id": "14272f00",
   "metadata": {},
   "outputs": [
    {
     "data": {
      "text/html": [
       "\n",
       "        <iframe\n",
       "            width=\"800\"\n",
       "            height=\"250\"\n",
       "            src=\"./source.html\"\n",
       "            frameborder=\"0\"\n",
       "            allowfullscreen\n",
       "            \n",
       "        ></iframe>\n",
       "        "
      ],
      "text/plain": [
       "<IPython.lib.display.IFrame at 0x10b740bb0>"
      ]
     },
     "execution_count": 7,
     "metadata": {},
     "output_type": "execute_result"
    }
   ],
   "source": [
    "graph2 = Graph(dataset, width=300, height=200, tooltip=[\"id\"])\n",
    "graph2.width = 800\n",
    "graph2.export(\"source.html\")\n",
    "IFrame(src='./source.html', width=800, height=250)"
   ]
  },
  {
   "cell_type": "code",
   "execution_count": 8,
   "id": "0dd39353",
   "metadata": {},
   "outputs": [
    {
     "data": {
      "text/html": [
       "\n",
       "        <iframe\n",
       "            width=\"800\"\n",
       "            height=\"450\"\n",
       "            src=\"./source.html\"\n",
       "            frameborder=\"0\"\n",
       "            allowfullscreen\n",
       "            \n",
       "        ></iframe>\n",
       "        "
      ],
      "text/plain": [
       "<IPython.lib.display.IFrame at 0x10b740f10>"
      ]
     },
     "execution_count": 8,
     "metadata": {},
     "output_type": "execute_result"
    }
   ],
   "source": [
    "graph3 = Graph(dataset, width=300, height=400, tooltip=[\"id\"])\n",
    "graph3.radio = 40\n",
    "graph3.export(\"source.html\")\n",
    "IFrame(src='./source.html', width=800, height=450)"
   ]
  },
  {
   "cell_type": "code",
   "execution_count": null,
   "id": "c2e74646",
   "metadata": {},
   "outputs": [],
   "source": []
  }
 ],
 "metadata": {
  "kernelspec": {
   "display_name": "Python 3 (ipykernel)",
   "language": "python",
   "name": "python3"
  },
  "language_info": {
   "codemirror_mode": {
    "name": "ipython",
    "version": 3
   },
   "file_extension": ".py",
   "mimetype": "text/x-python",
   "name": "python",
   "nbconvert_exporter": "python",
   "pygments_lexer": "ipython3",
   "version": "3.8.2"
  }
 },
 "nbformat": 4,
 "nbformat_minor": 5
}
